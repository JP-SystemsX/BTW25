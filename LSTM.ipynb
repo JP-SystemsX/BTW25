{
 "cells": [
  {
   "cell_type": "code",
   "id": "initial_id",
   "metadata": {
    "collapsed": true,
    "ExecuteTime": {
     "end_time": "2024-10-08T11:49:57.812978Z",
     "start_time": "2024-10-08T11:49:41.905756Z"
    }
   },
   "source": [
    "!pip install -q holidays\n",
    "!pip install -q sktime\n",
    "!pip install -q seaborn"
   ],
   "outputs": [
    {
     "name": "stderr",
     "output_type": "stream",
     "text": [
      "\n",
      "[notice] A new release of pip is available: 23.2.1 -> 24.2\n",
      "[notice] To update, run: python.exe -m pip install --upgrade pip\n",
      "\n",
      "[notice] A new release of pip is available: 23.2.1 -> 24.2\n",
      "[notice] To update, run: python.exe -m pip install --upgrade pip\n",
      "\n",
      "[notice] A new release of pip is available: 23.2.1 -> 24.2\n",
      "[notice] To update, run: python.exe -m pip install --upgrade pip\n"
     ]
    }
   ],
   "execution_count": 19
  },
  {
   "metadata": {
    "ExecuteTime": {
     "end_time": "2024-10-08T13:45:32.116285Z",
     "start_time": "2024-10-08T13:45:32.087079Z"
    }
   },
   "cell_type": "code",
   "source": [
    "import torch\n",
    "import torch.nn as nn\n",
    "import torch.optim as optim\n",
    "import holidays\n",
    "\n",
    "# Define the Encoder\n",
    "class EncoderLSTM(nn.Module):\n",
    "    def __init__(self, input_dim, hidden_dim, num_layers):\n",
    "        super(EncoderLSTM, self).__init__()\n",
    "        self.hidden_dim = hidden_dim\n",
    "        self.num_layers = num_layers\n",
    "        \n",
    "        # Define LSTM\n",
    "        self.lstm = nn.LSTM(input_dim, hidden_dim, num_layers, batch_first=True)\n",
    "    \n",
    "    def forward(self, x):\n",
    "        # Initialize hidden and cell state\n",
    "        h0 = torch.zeros(self.num_layers, x.size(0), self.hidden_dim).to(x.device)\n",
    "        c0 = torch.zeros(self.num_layers, x.size(0), self.hidden_dim).to(x.device)\n",
    "        \n",
    "        # Pass input through LSTM\n",
    "        output, (hn, cn) = self.lstm(x, (h0, c0))\n",
    "        \n",
    "        # hn and cn will be passed to the decoder\n",
    "        return output, hn, cn\n",
    "\n",
    "\n",
    "class DecoderLSTM(nn.Module):\n",
    "    def __init__(self, output_dim, hidden_dim, num_layers):\n",
    "        super(DecoderLSTM, self).__init__()\n",
    "        self.hidden_dim = hidden_dim\n",
    "        self.num_layers = num_layers\n",
    "        \n",
    "        # LSTM layer\n",
    "        self.lstm = nn.LSTM(output_dim, hidden_dim, num_layers, batch_first=True)\n",
    "        \n",
    "        # Fully connected layer to output real values\n",
    "        self.fc = nn.Linear(hidden_dim, output_dim)\n",
    "    \n",
    "    def forward(self, x, hidden, cell):\n",
    "        # Pass input through the LSTM\n",
    "        output, (hn, cn) = self.lstm(x, (hidden, cell))\n",
    "        \n",
    "        # Pass through the fully connected layer to get real-valued predictions\n",
    "        output = self.fc(output)\n",
    "        return output, hn, cn\n",
    "\n",
    "\n",
    "class Seq2Seq(nn.Module):\n",
    "    def __init__(self, encoder, decoder, device):\n",
    "        super(Seq2Seq, self).__init__()\n",
    "        self.encoder = encoder\n",
    "        self.decoder = decoder\n",
    "        self.device = device\n",
    "    \n",
    "    def forward(self, source, target, teacher_forcing_ratio=0.5):\n",
    "        batch_size = source.size(0)\n",
    "        target_len = target.size(1)\n",
    "        target_dim = target.size(2)\n",
    "        \n",
    "        # Tensor to store decoder outputs (real-valued)\n",
    "        outputs = torch.zeros(batch_size, target_len - 1, target_dim).to(self.device)\n",
    "        \n",
    "        # Encode the source sequence\n",
    "        encoder_output, hidden, cell = self.encoder(source)\n",
    "        \n",
    "        # First input to the decoder is the first time step of the target (to not rely on Autoregression during training)\n",
    "        decoder_input = target[:, 0, :].unsqueeze(1)  # (batch_size, 1, output_dim)\n",
    "        \n",
    "        for t in range(0, target_len - 1):\n",
    "            # Pass through the decoder\n",
    "            output, hidden, cell = self.decoder(decoder_input, hidden, cell)\n",
    "            \n",
    "            # Store the output (real-valued prediction)\n",
    "            outputs[:, t, :] = output.squeeze(1)\n",
    "            \n",
    "            # Decide whether to use teacher forcing (Using True Last Value as input or Own Prediction)\n",
    "            teacher_force = torch.rand(1).item() < teacher_forcing_ratio\n",
    "            decoder_input = target[:, t, :].unsqueeze(1) if teacher_force else output\n",
    "        \n",
    "        return outputs\n",
    "\n",
    "\n",
    "def combined_loss(y_true_load, y_pred_load, y_true_outlier, alpha: float = 10.):\n",
    "    mse_loss = nn.MSELoss()(y_pred_load, y_true_load)\n",
    "    outlier_mse_loss = nn.MSELoss()(y_pred_load * y_true_outlier, y_true_load * y_true_outlier)\n",
    "    \n",
    "    total_loss = mse_loss + alpha * outlier_mse_loss\n",
    "    return total_loss"
   ],
   "id": "6d70cb082d6767c2",
   "outputs": [],
   "execution_count": 68
  },
  {
   "metadata": {
    "ExecuteTime": {
     "end_time": "2024-10-08T13:45:32.973549Z",
     "start_time": "2024-10-08T13:45:32.963542Z"
    }
   },
   "cell_type": "code",
   "source": [
    "device = torch.device(\"cuda\" if torch.cuda.is_available() else \"cpu\")\n",
    "device"
   ],
   "id": "6c5cc62b3a1a6c5",
   "outputs": [
    {
     "data": {
      "text/plain": [
       "device(type='cuda')"
      ]
     },
     "execution_count": 69,
     "metadata": {},
     "output_type": "execute_result"
    }
   ],
   "execution_count": 69
  },
  {
   "metadata": {
    "ExecuteTime": {
     "end_time": "2024-10-08T13:47:22.652444Z",
     "start_time": "2024-10-08T13:47:19.836994Z"
    }
   },
   "cell_type": "code",
   "source": [
    "from abc import ABC, abstractmethod\n",
    "import numpy as np\n",
    "import pandas as pd\n",
    "from sktime.performance_metrics.forecasting import mean_absolute_percentage_error\n",
    "from sktime.split import SlidingWindowSplitter\n",
    "from torch.utils.data import DataLoader, TensorDataset\n",
    "from datetime import datetime\n",
    "import json\n",
    "from tqdm.auto import tqdm\n",
    "\n",
    "def augment(train_data: pd.DataFrame, target_column) -> pd.DataFrame:\n",
    "    \"\"\"Augment the training data with additional features.\"\"\"\n",
    "\n",
    "\n",
    "    train_data.loc[:, \"dow\"] = train_data[time_column].dt.dayofweek\n",
    "    train_data.loc[:, \"hour\"] = train_data[time_column].dt.hour\n",
    "    # get all holidays in the timeframe of the dataset\n",
    "    holys = set(holidays.DE(years=list(range(train_data[time_column].dt.date.min().year, train_data[time_column].dt.date.max().year))).keys())\n",
    "    train_data.loc[:, \"is_holiday\"] = train_data[time_column].dt.date.isin(holys).astype(int)\n",
    "\n",
    "    return train_data\n",
    "\n",
    "def preprocess(train_data, test_data, target_column):\n",
    "    \"\"\"Data cleaning and normalization\"\"\"\n",
    "    train_data.loc[:, target_column] = train_data.loc[:, target_column].interpolate()\n",
    "    train_data = train_data.dropna(subset=[target_column])\n",
    "\n",
    "    # Standardize\n",
    "    mean = train_data.loc[:, target_column].mean()\n",
    "    std = train_data.loc[:, target_column].std()\n",
    "    train_data.loc[:, target_column] = (train_data.loc[:, target_column] - mean) / std\n",
    "    test_data.loc[:, target_column] = (test_data.loc[:, target_column] - mean) / std\n",
    "    \n",
    "    return augment(train_data, target_column=target_column), test_data\n",
    "\n",
    "\n",
    "target_column = \"Price (EUR/MWhe)\"\n",
    "time_column = \"Datetime (Local)\"\n",
    "df = pd.read_csv(\"data/european_wholesale_electricity_price_data_hourly/european_wholesale_electricity_price_data_hourly/Germany.csv\")\n",
    "df = df.sort_values(by=\"Datetime (UTC)\")\n",
    "df[time_column] = pd.to_datetime(df[time_column])\n",
    "test_data = df[-24:]  # The last day is test data (for visualization only real test set should be much larger)\n",
    "train_data = df[:-24]\n",
    "train_data, test_data = preprocess(train_data, test_data, target_column)\n",
    "\n",
    "\n",
    "# Set up splitter for 24h Forecast\n",
    "splitter = SlidingWindowSplitter(fh=list(range(24)), window_length=100, step_length=8) \n",
    "\n",
    "X_train_windows = []\n",
    "y_train_windows = []\n",
    "\n",
    "X_data = train_data[[target_column, \"dow\", \"hour\", \"is_holiday\"]].values\n",
    "y_data = train_data[[target_column]].values\n",
    "\n",
    "for X_idx, y_idx in tqdm(splitter.split(train_data[target_column])):\n",
    "    X_train, y_train = X_data[X_idx], y_data[y_idx]\n",
    "\n",
    "    X_train_windows.append(X_train)\n",
    "    y_train_windows.append(y_train)\n",
    "\n",
    "X_train_tensor = torch.tensor(X_train_windows, dtype=torch.float32, requires_grad=True)\n",
    "y_train_tensor = torch.tensor(y_train_windows, dtype=torch.float32, requires_grad=True)\n",
    "\n",
    "dataset = TensorDataset(X_train_tensor, y_train_tensor)"
   ],
   "id": "bb8fa299da40ad7c",
   "outputs": [
    {
     "data": {
      "text/plain": [
       "0it [00:00, ?it/s]"
      ],
      "application/vnd.jupyter.widget-view+json": {
       "version_major": 2,
       "version_minor": 0,
       "model_id": "bbc8e465a8c3461b8c064c54a37ae7aa"
      }
     },
     "metadata": {},
     "output_type": "display_data"
    }
   ],
   "execution_count": 72
  },
  {
   "metadata": {
    "ExecuteTime": {
     "end_time": "2024-10-08T13:47:58.194968Z",
     "start_time": "2024-10-08T13:47:58.168632Z"
    }
   },
   "cell_type": "code",
   "source": [
    "def train(model: nn.Module, epochs: int, lr: float, batch_size: int, loss_fn: nn.Module, train_dataset: TensorDataset, val_dataset: TensorDataset, device=\"cpu\"):\n",
    "    \"\"\"Fit the internal model(s)\"\"\"\n",
    "    optimizer = optim.Adam(model.parameters(), lr=lr)\n",
    "\n",
    "    train_loader = DataLoader(train_dataset, batch_size=batch_size, shuffle=True)\n",
    "    val_loader = DataLoader(val_dataset, batch_size=batch_size, shuffle=False)\n",
    "    \n",
    "    # Set up Simple Early Stopping\n",
    "    best_model_state_dict = None\n",
    "    best_loss = np.inf\n",
    "\n",
    "    training_process = []\n",
    "    for epoch in tqdm(range(epochs)):\n",
    "        model.train()\n",
    "        train_loss = []\n",
    "        for i, (x_window, y_window) in tqdm(enumerate(train_loader)):\n",
    "            # Move data to CPU/GPU\n",
    "            x_window = x_window.to(device)\n",
    "            y_window = y_window.to(device)\n",
    "\n",
    "\n",
    "            optimizer.zero_grad()\n",
    "            # Make Prediction\n",
    "            y_pred_window = model(x_window, y_window)\n",
    "            # Calculate Loss\n",
    "            loss = loss_fn(\n",
    "                input=y_pred_window,\n",
    "                target=y_window[:, 1:, :],\n",
    "            )\n",
    "            # Apply Gradient Descent Step\n",
    "            loss.backward()\n",
    "            optimizer.step()\n",
    "            # Track Losses\n",
    "            train_loss += [loss.item()]\n",
    "        train_loss = np.mean(train_loss)\n",
    "\n",
    "        # Check how good Model so far\n",
    "        model.eval() # Set Model to Eval to avoid training on Validation Data \n",
    "        val_loss = []\n",
    "        with torch.no_grad():\n",
    "            for x_window, y_window in train_loader:\n",
    "                x_window = x_window.to(device)\n",
    "                y_window = y_window.to(device)\n",
    "\n",
    "                y_pred_window = model(x_window, y_window, teacher_forcing_ratio=0.)\n",
    "                loss = loss_fn(\n",
    "                    input=y_pred_window,\n",
    "                    target=y_window[:, 1:, :],\n",
    "                )\n",
    "                val_loss += [loss.item()]\n",
    "        val_loss = np.mean(val_loss)\n",
    "\n",
    "        if val_loss < best_loss:\n",
    "            best_loss = val_loss\n",
    "            best_model_state_dict = model.state_dict()\n",
    "\n",
    "        print(f\"Epoch {epoch + 1} - Train Loss: {train_loss:.2f}, Val Loss: {val_loss:.2f}\")\n",
    "        training_process +=[{\n",
    "            \"epoch\": epoch,\n",
    "            \"train_loss\": train_loss,\n",
    "            \"val_loss\": val_loss\n",
    "        }]\n",
    "\n",
    "        assert best_model_state_dict is not None\n",
    "        model.load_state_dict(best_model_state_dict)\n",
    "\n",
    "    pd.DataFrame(training_process).to_csv(f\"training_process.csv\", index=False)\n",
    "            \n",
    "def predict(self, time_index: pd.Index) -> np.ndarray:\n",
    "    \"\"\"Predict the next value(s)\"\"\"\n",
    "    t_0 = time_index[0]\n",
    "\n",
    "    train_data = self.dataset.loc[self.dataset[\"Time stamp\"].dt < t_0, :]\n",
    "    train_data = train_data.iloc[-self.lookback, :]\n",
    "    x_window = train_data.loc[:, [\"target_normalized\", \"dow\", \"hour\", \"is_peak\", \"is_holiday\"]].values\n",
    "    \n",
    "    x_window = torch.tensor(x_window).to(self.device).unsqueeze(0)\n",
    "\n",
    "    # dummy\n",
    "    y_window_load = torch.zeros(1, self.forecast_horizon, 1).to(self.device)\n",
    "\n",
    "    y_pred_window = self.model(x_window, y_window_load, teacher_forcing_ratio=0.)\n",
    "\n",
    "    y_pred_window = y_pred_window.cpu().numpy()\n",
    "    \n",
    "    return y_pred_window"
   ],
   "id": "aa512a9963fe11b0",
   "outputs": [],
   "execution_count": 75
  },
  {
   "metadata": {
    "ExecuteTime": {
     "end_time": "2024-10-08T13:49:40.915653Z",
     "start_time": "2024-10-08T13:47:59.880981Z"
    }
   },
   "cell_type": "code",
   "source": [
    "input_dim = 4\n",
    "output_dim = 1  # For example, size of the output features (same as input for many-to-many)\n",
    "hidden_dim = 64  # LSTM hidden dimension\n",
    "num_layers = 2  # Number of LSTM layers\n",
    "learning_rate = 0.001\n",
    "epochs = 10\n",
    "batch_size=512\n",
    "\n",
    "encoder = EncoderLSTM(input_dim, hidden_dim, num_layers).to(device)\n",
    "decoder = DecoderLSTM(output_dim, hidden_dim, num_layers).to(device)\n",
    "model = Seq2Seq(encoder, decoder, device).to(device)\n",
    "\n",
    "train(\n",
    "    model=model,\n",
    "    epochs=epochs,\n",
    "    lr=learning_rate,\n",
    "    batch_size=batch_size,\n",
    "    loss_fn=nn.MSELoss(),\n",
    "    train_dataset=dataset,\n",
    "    val_dataset=dataset,\n",
    "    device=device\n",
    ")"
   ],
   "id": "925e7bdfcf0f681c",
   "outputs": [
    {
     "data": {
      "text/plain": [
       "  0%|          | 0/10 [00:00<?, ?it/s]"
      ],
      "application/vnd.jupyter.widget-view+json": {
       "version_major": 2,
       "version_minor": 0,
       "model_id": "7170a6abd438443f8598a6c5f2537e99"
      }
     },
     "metadata": {},
     "output_type": "display_data"
    },
    {
     "data": {
      "text/plain": [
       "0it [00:00, ?it/s]"
      ],
      "application/vnd.jupyter.widget-view+json": {
       "version_major": 2,
       "version_minor": 0,
       "model_id": "a83fe9f11c2d4cde8afe8bca3e34b051"
      }
     },
     "metadata": {},
     "output_type": "display_data"
    },
    {
     "name": "stdout",
     "output_type": "stream",
     "text": [
      "Epoch 1 - Train Loss: 0.88, Val Loss: 0.58\n"
     ]
    },
    {
     "data": {
      "text/plain": [
       "0it [00:00, ?it/s]"
      ],
      "application/vnd.jupyter.widget-view+json": {
       "version_major": 2,
       "version_minor": 0,
       "model_id": "7193de4106dd4ea98f2c5fc564d41398"
      }
     },
     "metadata": {},
     "output_type": "display_data"
    },
    {
     "name": "stdout",
     "output_type": "stream",
     "text": [
      "Epoch 2 - Train Loss: 0.33, Val Loss: 0.34\n"
     ]
    },
    {
     "data": {
      "text/plain": [
       "0it [00:00, ?it/s]"
      ],
      "application/vnd.jupyter.widget-view+json": {
       "version_major": 2,
       "version_minor": 0,
       "model_id": "7646771a0e7c44139652a1969e2a320c"
      }
     },
     "metadata": {},
     "output_type": "display_data"
    },
    {
     "name": "stdout",
     "output_type": "stream",
     "text": [
      "Epoch 3 - Train Loss: 0.23, Val Loss: 0.25\n"
     ]
    },
    {
     "data": {
      "text/plain": [
       "0it [00:00, ?it/s]"
      ],
      "application/vnd.jupyter.widget-view+json": {
       "version_major": 2,
       "version_minor": 0,
       "model_id": "2ef3f9ebe0bd4576a23f3b73d785da02"
      }
     },
     "metadata": {},
     "output_type": "display_data"
    },
    {
     "name": "stdout",
     "output_type": "stream",
     "text": [
      "Epoch 4 - Train Loss: 0.19, Val Loss: 0.22\n"
     ]
    },
    {
     "data": {
      "text/plain": [
       "0it [00:00, ?it/s]"
      ],
      "application/vnd.jupyter.widget-view+json": {
       "version_major": 2,
       "version_minor": 0,
       "model_id": "05886686ac10489d8ebda54d90f3c356"
      }
     },
     "metadata": {},
     "output_type": "display_data"
    },
    {
     "name": "stdout",
     "output_type": "stream",
     "text": [
      "Epoch 5 - Train Loss: 0.18, Val Loss: 0.21\n"
     ]
    },
    {
     "data": {
      "text/plain": [
       "0it [00:00, ?it/s]"
      ],
      "application/vnd.jupyter.widget-view+json": {
       "version_major": 2,
       "version_minor": 0,
       "model_id": "df3d43055a744709b1c5134d32f40d1b"
      }
     },
     "metadata": {},
     "output_type": "display_data"
    },
    {
     "name": "stdout",
     "output_type": "stream",
     "text": [
      "Epoch 6 - Train Loss: 0.17, Val Loss: 0.20\n"
     ]
    },
    {
     "data": {
      "text/plain": [
       "0it [00:00, ?it/s]"
      ],
      "application/vnd.jupyter.widget-view+json": {
       "version_major": 2,
       "version_minor": 0,
       "model_id": "7f1516388e7c4bdca915e34b4e3ff9ce"
      }
     },
     "metadata": {},
     "output_type": "display_data"
    },
    {
     "name": "stdout",
     "output_type": "stream",
     "text": [
      "Epoch 7 - Train Loss: 0.17, Val Loss: 0.20\n"
     ]
    },
    {
     "data": {
      "text/plain": [
       "0it [00:00, ?it/s]"
      ],
      "application/vnd.jupyter.widget-view+json": {
       "version_major": 2,
       "version_minor": 0,
       "model_id": "e1994192e338482e964aeff2b8144e77"
      }
     },
     "metadata": {},
     "output_type": "display_data"
    },
    {
     "name": "stdout",
     "output_type": "stream",
     "text": [
      "Epoch 8 - Train Loss: 0.16, Val Loss: 0.20\n"
     ]
    },
    {
     "data": {
      "text/plain": [
       "0it [00:00, ?it/s]"
      ],
      "application/vnd.jupyter.widget-view+json": {
       "version_major": 2,
       "version_minor": 0,
       "model_id": "b922927b70554744bb3efa95d72dfb68"
      }
     },
     "metadata": {},
     "output_type": "display_data"
    },
    {
     "name": "stdout",
     "output_type": "stream",
     "text": [
      "Epoch 9 - Train Loss: 0.16, Val Loss: 0.20\n"
     ]
    },
    {
     "data": {
      "text/plain": [
       "0it [00:00, ?it/s]"
      ],
      "application/vnd.jupyter.widget-view+json": {
       "version_major": 2,
       "version_minor": 0,
       "model_id": "75cd0b204ab54816adae3db6093ef4e3"
      }
     },
     "metadata": {},
     "output_type": "display_data"
    },
    {
     "name": "stdout",
     "output_type": "stream",
     "text": [
      "Epoch 10 - Train Loss: 0.16, Val Loss: 0.20\n"
     ]
    }
   ],
   "execution_count": 76
  },
  {
   "metadata": {
    "ExecuteTime": {
     "end_time": "2024-10-08T13:50:19.155154Z",
     "start_time": "2024-10-08T13:50:19.044914Z"
    }
   },
   "cell_type": "code",
   "source": [
    "import seaborn as sns\n",
    "training_process = pd.read_csv(\"training_process.csv\")\n",
    "\n",
    "sns.lineplot(data=training_process, x=\"epoch\", y=\"train_loss\")"
   ],
   "id": "df2cb819bbcca41",
   "outputs": [
    {
     "data": {
      "text/plain": [
       "<Axes: xlabel='epoch', ylabel='train_loss'>"
      ]
     },
     "execution_count": 77,
     "metadata": {},
     "output_type": "execute_result"
    },
    {
     "data": {
      "text/plain": [
       "<Figure size 640x480 with 1 Axes>"
      ],
      "image/png": "[encoded data removed]"
     },
     "metadata": {},
     "output_type": "display_data"
    }
   ],
   "execution_count": 77
  },
  {
   "metadata": {
    "ExecuteTime": {
     "end_time": "2024-10-08T14:01:41.552055Z",
     "start_time": "2024-10-08T14:01:41.363115Z"
    }
   },
   "cell_type": "code",
   "source": [
    "import matplotlib.pyplot as plt\n",
    "# The Last 100 Datapoints \n",
    "input_for_forecast = torch.tensor(X_data[-100:], dtype=torch.float32, requires_grad=False)\n",
    "# Batch size of one & Move to GPU/CPU\n",
    "input_for_forecast = input_for_forecast.unsqueeze(dim=0).to(device)\n",
    "placeholder = torch.zeros(y_train_tensor[0].shape).unsqueeze(0).to(device)\n",
    "\n",
    "prediction = model(input_for_forecast, placeholder, teacher_forcing_ratio=0.0)\n",
    "# Concatenate input and expected output for Plotting\n",
    "real_data = np.concatenate([train_data[target_column].iloc[-100:], test_data[target_column]])\n",
    "plt.plot(range(len(real_data)), real_data)\n",
    "plt.plot(range(101, len(real_data)), prediction.to(\"cpu\").detach()[0,:,0].numpy())"
   ],
   "id": "150fb2242e88f449",
   "outputs": [
    {
     "data": {
      "text/plain": [
       "[<matplotlib.lines.Line2D at 0x1a6bfaeace0>]"
      ]
     },
     "execution_count": 106,
     "metadata": {},
     "output_type": "execute_result"
    },
    {
     "data": {
      "text/plain": [
       "<Figure size 640x480 with 1 Axes>"
      ],
      "image/png": "[encoded data removed]"
     },
     "metadata": {},
     "output_type": "display_data"
    }
   ],
   "execution_count": 106
  },
  {
   "metadata": {},
   "cell_type": "markdown",
   "source": [
    "# LSTMs often Struggle with Regression \n",
    "- When used Auto-Regressively (Last Output of Model becomes input for next prediction of model)\n",
    "- Then it will predict after a certain number of steps just the mean value of the time series\n",
    "- One can see above that for the first 6 or so hours the forecast is relatively exact but becomes much worse over time\n",
    "- Common Approaches to address this is to avoid Auto-Regressive Modeling all together, meaning:\n",
    "    - Training several LSTM one Trained to predict the next hour, another tries to predict the hour after that and so on -> 24 models are required to predict the next 24 hours\n",
    "    - Training an LSTM that returns a vector meaning the next 24 values are put into a vector of length 24 "
   ],
   "id": "c1db2e5b0f22652d"
  },
  {
   "metadata": {
    "ExecuteTime": {
     "end_time": "2024-10-08T13:59:01.678844Z",
     "start_time": "2024-10-08T13:59:01.647560Z"
    }
   },
   "cell_type": "code",
   "source": [
    "prediction = model(input_for_forecast, placeholder, teacher_forcing_ratio=0.0)\n",
    "# Concatenate input and expected output for Plotting\n",
    "real_data = np.concatenate([train_data[target_column].iloc[-100:], test_data[target_column]])\n",
    "plt.plot(range(len(real_data)), real_data)\n",
    "plt.plot(range(101, len(real_data)), prediction.to(\"cpu\").detach()[0,:,0].numpy())"
   ],
   "id": "351d8c65c63df9c6",
   "outputs": [
    {
     "data": {
      "text/plain": [
       "tensor([ 0.0381, -0.0405, -0.0404, -0.0185,  0.0056,  0.0258,  0.0409,  0.0516,\n",
       "         0.0590,  0.0642,  0.0680,  0.0708,  0.0731,  0.0752,  0.0770,  0.0787,\n",
       "         0.0804,  0.0821,  0.0838,  0.0855,  0.0872,  0.0890,  0.0907],\n",
       "       grad_fn=<SqueezeBackward0>)"
      ]
     },
     "execution_count": 102,
     "metadata": {},
     "output_type": "execute_result"
    }
   ],
   "execution_count": 102
  },
  {
   "metadata": {
    "ExecuteTime": {
     "end_time": "2024-10-08T13:54:32.526766Z",
     "start_time": "2024-10-08T13:54:32.510751Z"
    }
   },
   "cell_type": "code",
   "source": "np.concatenate([train_data[target_column].iloc[-100:], test_data[target_column]]).shape",
   "id": "7be2f20da3f365e4",
   "outputs": [
    {
     "data": {
      "text/plain": [
       "(124,)"
      ]
     },
     "execution_count": 93,
     "metadata": {},
     "output_type": "execute_result"
    }
   ],
   "execution_count": 93
  },
  {
   "metadata": {
    "ExecuteTime": {
     "end_time": "2024-10-08T13:38:13.502065Z",
     "start_time": "2024-10-08T13:38:13.470275Z"
    }
   },
   "cell_type": "code",
   "source": [
    "test.loc[:, target_column] = (test.loc[:, target_column] - train_data.loc[:, target_column].mean()) / train_data.loc[:, target_column].std()\n",
    "test"
   ],
   "id": "a054406db8855b20",
   "outputs": [
    {
     "data": {
      "text/plain": [
       "       Country ISO3 Code       Datetime (UTC)    Datetime (Local)  \\\n",
       "81048  Germany       DEU  2024-03-31 00:00:00 2024-03-31 01:00:00   \n",
       "81049  Germany       DEU  2024-03-31 01:00:00 2024-03-31 03:00:00   \n",
       "81050  Germany       DEU  2024-03-31 02:00:00 2024-03-31 04:00:00   \n",
       "81051  Germany       DEU  2024-03-31 03:00:00 2024-03-31 05:00:00   \n",
       "81052  Germany       DEU  2024-03-31 04:00:00 2024-03-31 06:00:00   \n",
       "81053  Germany       DEU  2024-03-31 05:00:00 2024-03-31 07:00:00   \n",
       "81054  Germany       DEU  2024-03-31 06:00:00 2024-03-31 08:00:00   \n",
       "81055  Germany       DEU  2024-03-31 07:00:00 2024-03-31 09:00:00   \n",
       "81056  Germany       DEU  2024-03-31 08:00:00 2024-03-31 10:00:00   \n",
       "81057  Germany       DEU  2024-03-31 09:00:00 2024-03-31 11:00:00   \n",
       "81058  Germany       DEU  2024-03-31 10:00:00 2024-03-31 12:00:00   \n",
       "81059  Germany       DEU  2024-03-31 11:00:00 2024-03-31 13:00:00   \n",
       "81060  Germany       DEU  2024-03-31 12:00:00 2024-03-31 14:00:00   \n",
       "81061  Germany       DEU  2024-03-31 13:00:00 2024-03-31 15:00:00   \n",
       "81062  Germany       DEU  2024-03-31 14:00:00 2024-03-31 16:00:00   \n",
       "81063  Germany       DEU  2024-03-31 15:00:00 2024-03-31 17:00:00   \n",
       "81064  Germany       DEU  2024-03-31 16:00:00 2024-03-31 18:00:00   \n",
       "81065  Germany       DEU  2024-03-31 17:00:00 2024-03-31 19:00:00   \n",
       "81066  Germany       DEU  2024-03-31 18:00:00 2024-03-31 20:00:00   \n",
       "81067  Germany       DEU  2024-03-31 19:00:00 2024-03-31 21:00:00   \n",
       "81068  Germany       DEU  2024-03-31 20:00:00 2024-03-31 22:00:00   \n",
       "81069  Germany       DEU  2024-03-31 21:00:00 2024-03-31 23:00:00   \n",
       "81070  Germany       DEU  2024-03-31 22:00:00 2024-04-01 00:00:00   \n",
       "81071  Germany       DEU  2024-03-31 23:00:00 2024-04-01 01:00:00   \n",
       "\n",
       "       Price (EUR/MWhe)  \n",
       "81048             66.71  \n",
       "81049             64.98  \n",
       "81050             60.48  \n",
       "81051             58.74  \n",
       "81052             64.46  \n",
       "81053             71.51  \n",
       "81054             65.03  \n",
       "81055             50.32  \n",
       "81056             41.03  \n",
       "81057             29.52  \n",
       "81058             19.85  \n",
       "81059              3.06  \n",
       "81060              1.03  \n",
       "81061             15.27  \n",
       "81062             41.07  \n",
       "81063             66.74  \n",
       "81064             89.32  \n",
       "81065            117.29  \n",
       "81066             83.72  \n",
       "81067             70.00  \n",
       "81068             64.51  \n",
       "81069             54.90  \n",
       "81070             49.95  \n",
       "81071             48.98  "
      ],
      "text/html": [
       "<div>\n",
       "<style scoped>\n",
       "    .dataframe tbody tr th:only-of-type {\n",
       "        vertical-align: middle;\n",
       "    }\n",
       "\n",
       "    .dataframe tbody tr th {\n",
       "        vertical-align: top;\n",
       "    }\n",
       "\n",
       "    .dataframe thead th {\n",
       "        text-align: right;\n",
       "    }\n",
       "</style>\n",
       "<table border=\"1\" class=\"dataframe\">\n",
       "  <thead>\n",
       "    <tr style=\"text-align: right;\">\n",
       "      <th></th>\n",
       "      <th>Country</th>\n",
       "      <th>ISO3 Code</th>\n",
       "      <th>Datetime (UTC)</th>\n",
       "      <th>Datetime (Local)</th>\n",
       "      <th>Price (EUR/MWhe)</th>\n",
       "    </tr>\n",
       "  </thead>\n",
       "  <tbody>\n",
       "    <tr>\n",
       "      <th>81048</th>\n",
       "      <td>Germany</td>\n",
       "      <td>DEU</td>\n",
       "      <td>2024-03-31 00:00:00</td>\n",
       "      <td>2024-03-31 01:00:00</td>\n",
       "      <td>66.71</td>\n",
       "    </tr>\n",
       "    <tr>\n",
       "      <th>81049</th>\n",
       "      <td>Germany</td>\n",
       "      <td>DEU</td>\n",
       "      <td>2024-03-31 01:00:00</td>\n",
       "      <td>2024-03-31 03:00:00</td>\n",
       "      <td>64.98</td>\n",
       "    </tr>\n",
       "    <tr>\n",
       "      <th>81050</th>\n",
       "      <td>Germany</td>\n",
       "      <td>DEU</td>\n",
       "      <td>2024-03-31 02:00:00</td>\n",
       "      <td>2024-03-31 04:00:00</td>\n",
       "      <td>60.48</td>\n",
       "    </tr>\n",
       "    <tr>\n",
       "      <th>81051</th>\n",
       "      <td>Germany</td>\n",
       "      <td>DEU</td>\n",
       "      <td>2024-03-31 03:00:00</td>\n",
       "      <td>2024-03-31 05:00:00</td>\n",
       "      <td>58.74</td>\n",
       "    </tr>\n",
       "    <tr>\n",
       "      <th>81052</th>\n",
       "      <td>Germany</td>\n",
       "      <td>DEU</td>\n",
       "      <td>2024-03-31 04:00:00</td>\n",
       "      <td>2024-03-31 06:00:00</td>\n",
       "      <td>64.46</td>\n",
       "    </tr>\n",
       "    <tr>\n",
       "      <th>81053</th>\n",
       "      <td>Germany</td>\n",
       "      <td>DEU</td>\n",
       "      <td>2024-03-31 05:00:00</td>\n",
       "      <td>2024-03-31 07:00:00</td>\n",
       "      <td>71.51</td>\n",
       "    </tr>\n",
       "    <tr>\n",
       "      <th>81054</th>\n",
       "      <td>Germany</td>\n",
       "      <td>DEU</td>\n",
       "      <td>2024-03-31 06:00:00</td>\n",
       "      <td>2024-03-31 08:00:00</td>\n",
       "      <td>65.03</td>\n",
       "    </tr>\n",
       "    <tr>\n",
       "      <th>81055</th>\n",
       "      <td>Germany</td>\n",
       "      <td>DEU</td>\n",
       "      <td>2024-03-31 07:00:00</td>\n",
       "      <td>2024-03-31 09:00:00</td>\n",
       "      <td>50.32</td>\n",
       "    </tr>\n",
       "    <tr>\n",
       "      <th>81056</th>\n",
       "      <td>Germany</td>\n",
       "      <td>DEU</td>\n",
       "      <td>2024-03-31 08:00:00</td>\n",
       "      <td>2024-03-31 10:00:00</td>\n",
       "      <td>41.03</td>\n",
       "    </tr>\n",
       "    <tr>\n",
       "      <th>81057</th>\n",
       "      <td>Germany</td>\n",
       "      <td>DEU</td>\n",
       "      <td>2024-03-31 09:00:00</td>\n",
       "      <td>2024-03-31 11:00:00</td>\n",
       "      <td>29.52</td>\n",
       "    </tr>\n",
       "    <tr>\n",
       "      <th>81058</th>\n",
       "      <td>Germany</td>\n",
       "      <td>DEU</td>\n",
       "      <td>2024-03-31 10:00:00</td>\n",
       "      <td>2024-03-31 12:00:00</td>\n",
       "      <td>19.85</td>\n",
       "    </tr>\n",
       "    <tr>\n",
       "      <th>81059</th>\n",
       "      <td>Germany</td>\n",
       "      <td>DEU</td>\n",
       "      <td>2024-03-31 11:00:00</td>\n",
       "      <td>2024-03-31 13:00:00</td>\n",
       "      <td>3.06</td>\n",
       "    </tr>\n",
       "    <tr>\n",
       "      <th>81060</th>\n",
       "      <td>Germany</td>\n",
       "      <td>DEU</td>\n",
       "      <td>2024-03-31 12:00:00</td>\n",
       "      <td>2024-03-31 14:00:00</td>\n",
       "      <td>1.03</td>\n",
       "    </tr>\n",
       "    <tr>\n",
       "      <th>81061</th>\n",
       "      <td>Germany</td>\n",
       "      <td>DEU</td>\n",
       "      <td>2024-03-31 13:00:00</td>\n",
       "      <td>2024-03-31 15:00:00</td>\n",
       "      <td>15.27</td>\n",
       "    </tr>\n",
       "    <tr>\n",
       "      <th>81062</th>\n",
       "      <td>Germany</td>\n",
       "      <td>DEU</td>\n",
       "      <td>2024-03-31 14:00:00</td>\n",
       "      <td>2024-03-31 16:00:00</td>\n",
       "      <td>41.07</td>\n",
       "    </tr>\n",
       "    <tr>\n",
       "      <th>81063</th>\n",
       "      <td>Germany</td>\n",
       "      <td>DEU</td>\n",
       "      <td>2024-03-31 15:00:00</td>\n",
       "      <td>2024-03-31 17:00:00</td>\n",
       "      <td>66.74</td>\n",
       "    </tr>\n",
       "    <tr>\n",
       "      <th>81064</th>\n",
       "      <td>Germany</td>\n",
       "      <td>DEU</td>\n",
       "      <td>2024-03-31 16:00:00</td>\n",
       "      <td>2024-03-31 18:00:00</td>\n",
       "      <td>89.32</td>\n",
       "    </tr>\n",
       "    <tr>\n",
       "      <th>81065</th>\n",
       "      <td>Germany</td>\n",
       "      <td>DEU</td>\n",
       "      <td>2024-03-31 17:00:00</td>\n",
       "      <td>2024-03-31 19:00:00</td>\n",
       "      <td>117.29</td>\n",
       "    </tr>\n",
       "    <tr>\n",
       "      <th>81066</th>\n",
       "      <td>Germany</td>\n",
       "      <td>DEU</td>\n",
       "      <td>2024-03-31 18:00:00</td>\n",
       "      <td>2024-03-31 20:00:00</td>\n",
       "      <td>83.72</td>\n",
       "    </tr>\n",
       "    <tr>\n",
       "      <th>81067</th>\n",
       "      <td>Germany</td>\n",
       "      <td>DEU</td>\n",
       "      <td>2024-03-31 19:00:00</td>\n",
       "      <td>2024-03-31 21:00:00</td>\n",
       "      <td>70.00</td>\n",
       "    </tr>\n",
       "    <tr>\n",
       "      <th>81068</th>\n",
       "      <td>Germany</td>\n",
       "      <td>DEU</td>\n",
       "      <td>2024-03-31 20:00:00</td>\n",
       "      <td>2024-03-31 22:00:00</td>\n",
       "      <td>64.51</td>\n",
       "    </tr>\n",
       "    <tr>\n",
       "      <th>81069</th>\n",
       "      <td>Germany</td>\n",
       "      <td>DEU</td>\n",
       "      <td>2024-03-31 21:00:00</td>\n",
       "      <td>2024-03-31 23:00:00</td>\n",
       "      <td>54.90</td>\n",
       "    </tr>\n",
       "    <tr>\n",
       "      <th>81070</th>\n",
       "      <td>Germany</td>\n",
       "      <td>DEU</td>\n",
       "      <td>2024-03-31 22:00:00</td>\n",
       "      <td>2024-04-01 00:00:00</td>\n",
       "      <td>49.95</td>\n",
       "    </tr>\n",
       "    <tr>\n",
       "      <th>81071</th>\n",
       "      <td>Germany</td>\n",
       "      <td>DEU</td>\n",
       "      <td>2024-03-31 23:00:00</td>\n",
       "      <td>2024-04-01 01:00:00</td>\n",
       "      <td>48.98</td>\n",
       "    </tr>\n",
       "  </tbody>\n",
       "</table>\n",
       "</div>"
      ]
     },
     "execution_count": 63,
     "metadata": {},
     "output_type": "execute_result"
    }
   ],
   "execution_count": 63
  },
  {
   "metadata": {
    "ExecuteTime": {
     "end_time": "2024-10-08T13:38:59.521016Z",
     "start_time": "2024-10-08T13:38:59.505386Z"
    }
   },
   "cell_type": "code",
   "source": "(test.loc[:, target_column] - train_data.loc[:, target_column].mean()) / train_data.loc[:, target_column].std()",
   "id": "40ff58e09d4bba8",
   "outputs": [
    {
     "data": {
      "text/plain": [
       "81048     66.71\n",
       "81049     64.98\n",
       "81050     60.48\n",
       "81051     58.74\n",
       "81052     64.46\n",
       "81053     71.51\n",
       "81054     65.03\n",
       "81055     50.32\n",
       "81056     41.03\n",
       "81057     29.52\n",
       "81058     19.85\n",
       "81059      3.06\n",
       "81060      1.03\n",
       "81061     15.27\n",
       "81062     41.07\n",
       "81063     66.74\n",
       "81064     89.32\n",
       "81065    117.29\n",
       "81066     83.72\n",
       "81067     70.00\n",
       "81068     64.51\n",
       "81069     54.90\n",
       "81070     49.95\n",
       "81071     48.98\n",
       "Name: Price (EUR/MWhe), dtype: float64"
      ]
     },
     "execution_count": 64,
     "metadata": {},
     "output_type": "execute_result"
    }
   ],
   "execution_count": 64
  },
  {
   "metadata": {
    "ExecuteTime": {
     "end_time": "2024-10-08T13:53:48.884426Z",
     "start_time": "2024-10-08T13:53:48.868756Z"
    }
   },
   "cell_type": "code",
   "source": "test_data[target_column]",
   "id": "e38d48714546192c",
   "outputs": [
    {
     "data": {
      "text/plain": [
       "81048   -0.048551\n",
       "81049   -0.068531\n",
       "81050   -0.120501\n",
       "81051   -0.140595\n",
       "81052   -0.074536\n",
       "81053    0.006883\n",
       "81054   -0.067953\n",
       "81055   -0.237836\n",
       "81056   -0.345125\n",
       "81057   -0.478051\n",
       "81058   -0.589728\n",
       "81059   -0.783633\n",
       "81060   -0.807077\n",
       "81061   -0.642622\n",
       "81062   -0.344663\n",
       "81063   -0.048205\n",
       "81064    0.212567\n",
       "81065    0.535587\n",
       "81066    0.147894\n",
       "81067   -0.010556\n",
       "81068   -0.073959\n",
       "81069   -0.184943\n",
       "81070   -0.242109\n",
       "81071   -0.253312\n",
       "Name: Price (EUR/MWhe), dtype: float64"
      ]
     },
     "execution_count": 91,
     "metadata": {},
     "output_type": "execute_result"
    }
   ],
   "execution_count": 91
  },
  {
   "metadata": {},
   "cell_type": "code",
   "outputs": [],
   "execution_count": null,
   "source": "",
   "id": "c1e8386436a714af"
  }
 ],
 "metadata": {
  "kernelspec": {
   "display_name": "Python 3",
   "language": "python",
   "name": "python3"
  },
  "language_info": {
   "codemirror_mode": {
    "name": "ipython",
    "version": 2
   },
   "file_extension": ".py",
   "mimetype": "text/x-python",
   "name": "python",
   "nbconvert_exporter": "python",
   "pygments_lexer": "ipython2",
   "version": "2.7.6"
  }
 },
 "nbformat": 4,
 "nbformat_minor": 5
}
